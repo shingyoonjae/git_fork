{
 "cells": [
  {
   "cell_type": "code",
   "execution_count": 1,
   "metadata": {},
   "outputs": [],
   "source": [
    "from selenium import webdriver\n",
    "import time\n",
    "from selenium.webdriver.common.by import By\n",
    "from selenium.webdriver.common.keys import Keys\n",
    "from bs4 import BeautifulSoup\n",
    "from selenium.webdriver.common.alert import Alert\n",
    "import pandas as pd\n",
    "import csv"
   ]
  },
  {
   "cell_type": "code",
   "execution_count": 22,
   "metadata": {},
   "outputs": [],
   "source": [
    "driver=webdriver.Chrome()\n",
    "driver.get('https://nid.naver.com/nidlogin.login?mode=form&url=https%3A%2F%2Fwww.naver.com')\n",
    "time.sleep(5)"
   ]
  },
  {
   "cell_type": "code",
   "execution_count": 23,
   "metadata": {},
   "outputs": [],
   "source": [
    "#자바스크립트로 우회하여 아이디와 비밀번호 값 넘겨줌\n",
    "driver.execute_script(\"document.getElementsByName('id')[0].value = \\'\" + 'bigyoon20' + \"\\'\") \n",
    "driver.execute_script(\"document.getElementsByName('pw')[0].value = \\'\" + 'datayoon12!'  + \"\\'\")\n",
    "\n",
    "driver.find_element(By.ID,'log.login').click() #로그인 버튼 클릭\n",
    "time.sleep(2)\n",
    "\n",
    "driver.get('https://cafe.naver.com/onepieceholicplus') #카페 접속\n",
    "time.sleep(2)"
   ]
  },
  {
   "cell_type": "code",
   "execution_count": 24,
   "metadata": {},
   "outputs": [],
   "source": [
    "# 예금\n",
    "# deposit = pd.read_csv('deposit.csv')\n",
    "banks = ['우리', 'kb']\n",
    "products = ['우리 예금', 'kb 예금']\n"
   ]
  },
  {
   "cell_type": "code",
   "execution_count": 25,
   "metadata": {},
   "outputs": [
    {
     "name": "stdout",
     "output_type": "stream",
     "text": [
      "우리 예금\n"
     ]
    },
    {
     "ename": "NoSuchFrameException",
     "evalue": "Message: cafe_main\n",
     "output_type": "error",
     "traceback": [
      "\u001b[1;31m---------------------------------------------------------------------------\u001b[0m",
      "\u001b[1;31mNoSuchElementException\u001b[0m                    Traceback (most recent call last)",
      "File \u001b[1;32mc:\\Users\\NT551XCJ\\AppData\\Local\\Programs\\Python\\Python310\\lib\\site-packages\\selenium\\webdriver\\remote\\switch_to.py:88\u001b[0m, in \u001b[0;36mSwitchTo.frame\u001b[1;34m(self, frame_reference)\u001b[0m\n\u001b[0;32m     87\u001b[0m \u001b[39mtry\u001b[39;00m:\n\u001b[1;32m---> 88\u001b[0m     frame_reference \u001b[39m=\u001b[39m \u001b[39mself\u001b[39;49m\u001b[39m.\u001b[39;49m_driver\u001b[39m.\u001b[39;49mfind_element(By\u001b[39m.\u001b[39;49mID, frame_reference)\n\u001b[0;32m     89\u001b[0m \u001b[39mexcept\u001b[39;00m NoSuchElementException:\n",
      "File \u001b[1;32mc:\\Users\\NT551XCJ\\AppData\\Local\\Programs\\Python\\Python310\\lib\\site-packages\\selenium\\webdriver\\remote\\webdriver.py:738\u001b[0m, in \u001b[0;36mWebDriver.find_element\u001b[1;34m(self, by, value)\u001b[0m\n\u001b[0;32m    736\u001b[0m     value \u001b[39m=\u001b[39m \u001b[39mf\u001b[39m\u001b[39m'\u001b[39m\u001b[39m[name=\u001b[39m\u001b[39m\"\u001b[39m\u001b[39m{\u001b[39;00mvalue\u001b[39m}\u001b[39;00m\u001b[39m\"\u001b[39m\u001b[39m]\u001b[39m\u001b[39m'\u001b[39m\n\u001b[1;32m--> 738\u001b[0m \u001b[39mreturn\u001b[39;00m \u001b[39mself\u001b[39;49m\u001b[39m.\u001b[39;49mexecute(Command\u001b[39m.\u001b[39;49mFIND_ELEMENT, {\u001b[39m\"\u001b[39;49m\u001b[39musing\u001b[39;49m\u001b[39m\"\u001b[39;49m: by, \u001b[39m\"\u001b[39;49m\u001b[39mvalue\u001b[39;49m\u001b[39m\"\u001b[39;49m: value})[\u001b[39m\"\u001b[39m\u001b[39mvalue\u001b[39m\u001b[39m\"\u001b[39m]\n",
      "File \u001b[1;32mc:\\Users\\NT551XCJ\\AppData\\Local\\Programs\\Python\\Python310\\lib\\site-packages\\selenium\\webdriver\\remote\\webdriver.py:344\u001b[0m, in \u001b[0;36mWebDriver.execute\u001b[1;34m(self, driver_command, params)\u001b[0m\n\u001b[0;32m    343\u001b[0m \u001b[39mif\u001b[39;00m response:\n\u001b[1;32m--> 344\u001b[0m     \u001b[39mself\u001b[39;49m\u001b[39m.\u001b[39;49merror_handler\u001b[39m.\u001b[39;49mcheck_response(response)\n\u001b[0;32m    345\u001b[0m     response[\u001b[39m\"\u001b[39m\u001b[39mvalue\u001b[39m\u001b[39m\"\u001b[39m] \u001b[39m=\u001b[39m \u001b[39mself\u001b[39m\u001b[39m.\u001b[39m_unwrap_value(response\u001b[39m.\u001b[39mget(\u001b[39m\"\u001b[39m\u001b[39mvalue\u001b[39m\u001b[39m\"\u001b[39m, \u001b[39mNone\u001b[39;00m))\n",
      "File \u001b[1;32mc:\\Users\\NT551XCJ\\AppData\\Local\\Programs\\Python\\Python310\\lib\\site-packages\\selenium\\webdriver\\remote\\errorhandler.py:229\u001b[0m, in \u001b[0;36mErrorHandler.check_response\u001b[1;34m(self, response)\u001b[0m\n\u001b[0;32m    228\u001b[0m     \u001b[39mraise\u001b[39;00m exception_class(message, screen, stacktrace, alert_text)  \u001b[39m# type: ignore[call-arg]  # mypy is not smart enough here\u001b[39;00m\n\u001b[1;32m--> 229\u001b[0m \u001b[39mraise\u001b[39;00m exception_class(message, screen, stacktrace)\n",
      "\u001b[1;31mNoSuchElementException\u001b[0m: Message: no such element: Unable to locate element: {\"method\":\"css selector\",\"selector\":\"[id=\"cafe_main\"]\"}\n  (Session info: chrome=119.0.6045.124); For documentation on this error, please visit: https://www.selenium.dev/documentation/webdriver/troubleshooting/errors#no-such-element-exception\nStacktrace:\n\tGetHandleVerifier [0x00007FF7E30182B2+55298]\n\t(No symbol) [0x00007FF7E2F85E02]\n\t(No symbol) [0x00007FF7E2E405AB]\n\t(No symbol) [0x00007FF7E2E8175C]\n\t(No symbol) [0x00007FF7E2E818DC]\n\t(No symbol) [0x00007FF7E2EBCBC7]\n\t(No symbol) [0x00007FF7E2EA20EF]\n\t(No symbol) [0x00007FF7E2EBAAA4]\n\t(No symbol) [0x00007FF7E2EA1E83]\n\t(No symbol) [0x00007FF7E2E7670A]\n\t(No symbol) [0x00007FF7E2E77964]\n\tGetHandleVerifier [0x00007FF7E3390AAB+3694587]\n\tGetHandleVerifier [0x00007FF7E33E728E+4048862]\n\tGetHandleVerifier [0x00007FF7E33DF173+4015811]\n\tGetHandleVerifier [0x00007FF7E30B47D6+695590]\n\t(No symbol) [0x00007FF7E2F90CE8]\n\t(No symbol) [0x00007FF7E2F8CF34]\n\t(No symbol) [0x00007FF7E2F8D062]\n\t(No symbol) [0x00007FF7E2F7D3A3]\n\tBaseThreadInitThunk [0x00007FF8AB6B7344+20]\n\tRtlUserThreadStart [0x00007FF8AD4A26B1+33]\n",
      "\nDuring handling of the above exception, another exception occurred:\n",
      "\u001b[1;31mNoSuchElementException\u001b[0m                    Traceback (most recent call last)",
      "File \u001b[1;32mc:\\Users\\NT551XCJ\\AppData\\Local\\Programs\\Python\\Python310\\lib\\site-packages\\selenium\\webdriver\\remote\\switch_to.py:91\u001b[0m, in \u001b[0;36mSwitchTo.frame\u001b[1;34m(self, frame_reference)\u001b[0m\n\u001b[0;32m     90\u001b[0m \u001b[39mtry\u001b[39;00m:\n\u001b[1;32m---> 91\u001b[0m     frame_reference \u001b[39m=\u001b[39m \u001b[39mself\u001b[39;49m\u001b[39m.\u001b[39;49m_driver\u001b[39m.\u001b[39;49mfind_element(By\u001b[39m.\u001b[39;49mNAME, frame_reference)\n\u001b[0;32m     92\u001b[0m \u001b[39mexcept\u001b[39;00m NoSuchElementException \u001b[39mas\u001b[39;00m exc:\n",
      "File \u001b[1;32mc:\\Users\\NT551XCJ\\AppData\\Local\\Programs\\Python\\Python310\\lib\\site-packages\\selenium\\webdriver\\remote\\webdriver.py:738\u001b[0m, in \u001b[0;36mWebDriver.find_element\u001b[1;34m(self, by, value)\u001b[0m\n\u001b[0;32m    736\u001b[0m     value \u001b[39m=\u001b[39m \u001b[39mf\u001b[39m\u001b[39m'\u001b[39m\u001b[39m[name=\u001b[39m\u001b[39m\"\u001b[39m\u001b[39m{\u001b[39;00mvalue\u001b[39m}\u001b[39;00m\u001b[39m\"\u001b[39m\u001b[39m]\u001b[39m\u001b[39m'\u001b[39m\n\u001b[1;32m--> 738\u001b[0m \u001b[39mreturn\u001b[39;00m \u001b[39mself\u001b[39;49m\u001b[39m.\u001b[39;49mexecute(Command\u001b[39m.\u001b[39;49mFIND_ELEMENT, {\u001b[39m\"\u001b[39;49m\u001b[39musing\u001b[39;49m\u001b[39m\"\u001b[39;49m: by, \u001b[39m\"\u001b[39;49m\u001b[39mvalue\u001b[39;49m\u001b[39m\"\u001b[39;49m: value})[\u001b[39m\"\u001b[39m\u001b[39mvalue\u001b[39m\u001b[39m\"\u001b[39m]\n",
      "File \u001b[1;32mc:\\Users\\NT551XCJ\\AppData\\Local\\Programs\\Python\\Python310\\lib\\site-packages\\selenium\\webdriver\\remote\\webdriver.py:344\u001b[0m, in \u001b[0;36mWebDriver.execute\u001b[1;34m(self, driver_command, params)\u001b[0m\n\u001b[0;32m    343\u001b[0m \u001b[39mif\u001b[39;00m response:\n\u001b[1;32m--> 344\u001b[0m     \u001b[39mself\u001b[39;49m\u001b[39m.\u001b[39;49merror_handler\u001b[39m.\u001b[39;49mcheck_response(response)\n\u001b[0;32m    345\u001b[0m     response[\u001b[39m\"\u001b[39m\u001b[39mvalue\u001b[39m\u001b[39m\"\u001b[39m] \u001b[39m=\u001b[39m \u001b[39mself\u001b[39m\u001b[39m.\u001b[39m_unwrap_value(response\u001b[39m.\u001b[39mget(\u001b[39m\"\u001b[39m\u001b[39mvalue\u001b[39m\u001b[39m\"\u001b[39m, \u001b[39mNone\u001b[39;00m))\n",
      "File \u001b[1;32mc:\\Users\\NT551XCJ\\AppData\\Local\\Programs\\Python\\Python310\\lib\\site-packages\\selenium\\webdriver\\remote\\errorhandler.py:229\u001b[0m, in \u001b[0;36mErrorHandler.check_response\u001b[1;34m(self, response)\u001b[0m\n\u001b[0;32m    228\u001b[0m     \u001b[39mraise\u001b[39;00m exception_class(message, screen, stacktrace, alert_text)  \u001b[39m# type: ignore[call-arg]  # mypy is not smart enough here\u001b[39;00m\n\u001b[1;32m--> 229\u001b[0m \u001b[39mraise\u001b[39;00m exception_class(message, screen, stacktrace)\n",
      "\u001b[1;31mNoSuchElementException\u001b[0m: Message: no such element: Unable to locate element: {\"method\":\"css selector\",\"selector\":\"[name=\"cafe_main\"]\"}\n  (Session info: chrome=119.0.6045.124); For documentation on this error, please visit: https://www.selenium.dev/documentation/webdriver/troubleshooting/errors#no-such-element-exception\nStacktrace:\n\tGetHandleVerifier [0x00007FF7E30182B2+55298]\n\t(No symbol) [0x00007FF7E2F85E02]\n\t(No symbol) [0x00007FF7E2E405AB]\n\t(No symbol) [0x00007FF7E2E8175C]\n\t(No symbol) [0x00007FF7E2E818DC]\n\t(No symbol) [0x00007FF7E2EBCBC7]\n\t(No symbol) [0x00007FF7E2EA20EF]\n\t(No symbol) [0x00007FF7E2EBAAA4]\n\t(No symbol) [0x00007FF7E2EA1E83]\n\t(No symbol) [0x00007FF7E2E7670A]\n\t(No symbol) [0x00007FF7E2E77964]\n\tGetHandleVerifier [0x00007FF7E3390AAB+3694587]\n\tGetHandleVerifier [0x00007FF7E33E728E+4048862]\n\tGetHandleVerifier [0x00007FF7E33DF173+4015811]\n\tGetHandleVerifier [0x00007FF7E30B47D6+695590]\n\t(No symbol) [0x00007FF7E2F90CE8]\n\t(No symbol) [0x00007FF7E2F8CF34]\n\t(No symbol) [0x00007FF7E2F8D062]\n\t(No symbol) [0x00007FF7E2F7D3A3]\n\tBaseThreadInitThunk [0x00007FF8AB6B7344+20]\n\tRtlUserThreadStart [0x00007FF8AD4A26B1+33]\n",
      "\nThe above exception was the direct cause of the following exception:\n",
      "\u001b[1;31mNoSuchFrameException\u001b[0m                      Traceback (most recent call last)",
      "\u001b[1;32mc:\\Users\\NT551XCJ\\Desktop\\asac\\git\\git_fork_g\\cafe.ipynb 셀 5\u001b[0m line \u001b[0;36m5\n\u001b[0;32m      <a href='vscode-notebook-cell:/c%3A/Users/NT551XCJ/Desktop/asac/git/git_fork_g/cafe.ipynb#W4sZmlsZQ%3D%3D?line=2'>3</a>\u001b[0m driver\u001b[39m.\u001b[39mfind_element(\u001b[39m\"\u001b[39m\u001b[39mname\u001b[39m\u001b[39m\"\u001b[39m,\u001b[39m\"\u001b[39m\u001b[39mquery\u001b[39m\u001b[39m\"\u001b[39m)\u001b[39m.\u001b[39msend_keys(Keys\u001b[39m.\u001b[39mENTER)  \u001b[39m# 그리고 엔터를 입력해 검색\u001b[39;00m\n\u001b[0;32m      <a href='vscode-notebook-cell:/c%3A/Users/NT551XCJ/Desktop/asac/git/git_fork_g/cafe.ipynb#W4sZmlsZQ%3D%3D?line=3'>4</a>\u001b[0m time\u001b[39m.\u001b[39msleep(\u001b[39m2\u001b[39m)\n\u001b[1;32m----> <a href='vscode-notebook-cell:/c%3A/Users/NT551XCJ/Desktop/asac/git/git_fork_g/cafe.ipynb#W4sZmlsZQ%3D%3D?line=4'>5</a>\u001b[0m driver\u001b[39m.\u001b[39;49mswitch_to\u001b[39m.\u001b[39;49mframe(\u001b[39m'\u001b[39;49m\u001b[39mcafe_main\u001b[39;49m\u001b[39m'\u001b[39;49m) \u001b[39m#프레임 전환\u001b[39;00m\n\u001b[0;32m      <a href='vscode-notebook-cell:/c%3A/Users/NT551XCJ/Desktop/asac/git/git_fork_g/cafe.ipynb#W4sZmlsZQ%3D%3D?line=5'>6</a>\u001b[0m time\u001b[39m.\u001b[39msleep(\u001b[39m2\u001b[39m)\n\u001b[0;32m      <a href='vscode-notebook-cell:/c%3A/Users/NT551XCJ/Desktop/asac/git/git_fork_g/cafe.ipynb#W4sZmlsZQ%3D%3D?line=6'>7</a>\u001b[0m \u001b[39m# 기간 3년으로 설정\u001b[39;00m\n",
      "File \u001b[1;32mc:\\Users\\NT551XCJ\\AppData\\Local\\Programs\\Python\\Python310\\lib\\site-packages\\selenium\\webdriver\\remote\\switch_to.py:93\u001b[0m, in \u001b[0;36mSwitchTo.frame\u001b[1;34m(self, frame_reference)\u001b[0m\n\u001b[0;32m     91\u001b[0m             frame_reference \u001b[39m=\u001b[39m \u001b[39mself\u001b[39m\u001b[39m.\u001b[39m_driver\u001b[39m.\u001b[39mfind_element(By\u001b[39m.\u001b[39mNAME, frame_reference)\n\u001b[0;32m     92\u001b[0m         \u001b[39mexcept\u001b[39;00m NoSuchElementException \u001b[39mas\u001b[39;00m exc:\n\u001b[1;32m---> 93\u001b[0m             \u001b[39mraise\u001b[39;00m NoSuchFrameException(frame_reference) \u001b[39mfrom\u001b[39;00m \u001b[39mexc\u001b[39;00m\n\u001b[0;32m     95\u001b[0m \u001b[39mself\u001b[39m\u001b[39m.\u001b[39m_driver\u001b[39m.\u001b[39mexecute(Command\u001b[39m.\u001b[39mSWITCH_TO_FRAME, {\u001b[39m\"\u001b[39m\u001b[39mid\u001b[39m\u001b[39m\"\u001b[39m: frame_reference})\n",
      "\u001b[1;31mNoSuchFrameException\u001b[0m: Message: cafe_main\n"
     ]
    }
   ],
   "source": [
    "for product in products:  \n",
    "    driver.find_element(\"name\",'query').send_keys(f'{product}') # 원하는 검색어를 검색창에 입력\n",
    "    driver.find_element(\"name\",\"query\").send_keys(Keys.ENTER)  # 그리고 엔터를 입력해 검색\n",
    "    time.sleep(2)\n",
    "    driver.switch_to.frame('cafe_main') #프레임 전환\n",
    "    time.sleep(2)\n",
    "    # 기간 3년으로 설정\n",
    "    start_date = '20201110'\n",
    "    # end_date : 자동설정됨\n",
    "    driver.find_element(By.XPATH, '//*[@id=\"currentSearchDateTop\"]').click() # 전체기간 클릭\n",
    "    s_date = driver.find_element(By.XPATH, '//*[@id=\"input_1_top\"]')\n",
    "    s_date.clear()\n",
    "    time.sleep(1)\n",
    "    # start_date를 for문 통해 1글자씩 입력\n",
    "    for c in start_date:\n",
    "        s_date.send_keys(c)\n",
    "        time.sleep(1)\n",
    "\n",
    "    # 설정버튼 클릭\n",
    "    driver.find_element(By.XPATH, '//*[@id=\"btn_set_top\"]').click() \n",
    "    time.sleep(5)\n",
    "\n",
    "    driver.find_element(\"name\",'query').send_keys(product) # 원하는 검색어를 검색창에 입력\n",
    "    driver.find_element(\"name\",\"query\").send_keys(Keys.ENTER)  # 그리고 엔터를 입력해 검색\n",
    "    time.sleep(2)\n",
    "    print(product)"
   ]
  },
  {
   "cell_type": "code",
   "execution_count": 18,
   "metadata": {},
   "outputs": [],
   "source": []
  },
  {
   "cell_type": "code",
   "execution_count": 19,
   "metadata": {},
   "outputs": [],
   "source": []
  },
  {
   "cell_type": "code",
   "execution_count": null,
   "metadata": {},
   "outputs": [],
   "source": []
  }
 ],
 "metadata": {
  "kernelspec": {
   "display_name": "Python 3",
   "language": "python",
   "name": "python3"
  },
  "language_info": {
   "codemirror_mode": {
    "name": "ipython",
    "version": 3
   },
   "file_extension": ".py",
   "mimetype": "text/x-python",
   "name": "python",
   "nbconvert_exporter": "python",
   "pygments_lexer": "ipython3",
   "version": "3.10.11"
  }
 },
 "nbformat": 4,
 "nbformat_minor": 2
}
